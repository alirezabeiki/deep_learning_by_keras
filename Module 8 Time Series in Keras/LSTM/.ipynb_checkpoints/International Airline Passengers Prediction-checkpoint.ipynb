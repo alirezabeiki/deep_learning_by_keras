{
 "cells": [
  {
   "cell_type": "markdown",
   "metadata": {},
   "source": [
    "# Problem Definition"
   ]
  },
  {
   "cell_type": "markdown",
   "metadata": {},
   "source": [
    "The problem we are going to look at in this post is theInternational Airline Passengers prediction problem.\n",
    "\n",
    "This is a problem where, given a year and a month, the task is to predict the number of international airline passengers in units of 1,000. The data ranges from January 1949 to December 1960, or 12 years, with 144 observations."
   ]
  },
  {
   "cell_type": "markdown",
   "metadata": {},
   "source": [
    "# 1. Import Libararies"
   ]
  },
  {
   "cell_type": "code",
   "execution_count": 45,
   "metadata": {},
   "outputs": [],
   "source": [
    "import numpy as np\n",
    "import pandas as pd\n",
    "import matplotlib.pyplot as plt\n",
    "from sklearn.preprocessing import MinMaxScaler\n",
    "from sklearn.metrics import mean_squared_error\n",
    "import tensorflow as tf\n",
    "import math"
   ]
  },
  {
   "cell_type": "markdown",
   "metadata": {},
   "source": [
    "# 2. Preparing Dataset"
   ]
  },
  {
   "cell_type": "markdown",
   "metadata": {},
   "source": [
    "## 2.1 Loading dataset"
   ]
  },
  {
   "cell_type": "markdown",
   "metadata": {},
   "source": [
    "We load the dataset with the first column because we are not interested in dates."
   ]
  },
  {
   "cell_type": "code",
   "execution_count": 33,
   "metadata": {},
   "outputs": [],
   "source": [
    "dataset = pd.read_csv('airline-passengers.csv', usecols=[1], engine='python')"
   ]
  },
  {
   "cell_type": "code",
   "execution_count": 34,
   "metadata": {},
   "outputs": [],
   "source": [
    "dataset = dataset.values\n",
    "dataset = dataset.astype('float32')"
   ]
  },
  {
   "cell_type": "markdown",
   "metadata": {},
   "source": [
    "Plot the dataset:"
   ]
  },
  {
   "cell_type": "code",
   "execution_count": 35,
   "metadata": {},
   "outputs": [
    {
     "data": {
      "image/png": "[encoded data removed]",
      "text/plain": [
       "<Figure size 432x288 with 1 Axes>"
      ]
     },
     "metadata": {
      "needs_background": "light"
     },
     "output_type": "display_data"
    }
   ],
   "source": [
    "plt.plot(dataset)\n",
    "plt.show()"
   ]
  },
  {
   "cell_type": "markdown",
   "metadata": {},
   "source": [
    "## 2.2 Normalize the dataset"
   ]
  },
  {
   "cell_type": "markdown",
   "metadata": {},
   "source": [
    "LSTMs are sensitive to the scale of the input data, specifically when the sigmoid (default) or tanh activation functions are used. It can be a good practice to rescale the data to the range of 0-to-1, also called normalizing. We can easily normalize the dataset using the MinMaxScaler preprocessing class from the scikit-learn library."
   ]
  },
  {
   "cell_type": "code",
   "execution_count": 36,
   "metadata": {},
   "outputs": [],
   "source": [
    "scaler = MinMaxScaler(feature_range=(0, 1))\n",
    "dataset = scaler.fit_transform(dataset)"
   ]
  },
  {
   "cell_type": "markdown",
   "metadata": {},
   "source": [
    "## 2.3 Train and Test dataset"
   ]
  },
  {
   "cell_type": "markdown",
   "metadata": {},
   "source": [
    "The code below calculates the index of the split point and separates the data into the training datasets with 67% of the observations that we can use to train our model, leaving the remaining 33% for testing the model."
   ]
  },
  {
   "cell_type": "code",
   "execution_count": 37,
   "metadata": {},
   "outputs": [
    {
     "name": "stdout",
     "output_type": "stream",
     "text": [
      "96 48\n"
     ]
    }
   ],
   "source": [
    "train_size = int(len(dataset) * 0.67)\n",
    "test_size = len(dataset) - train_size\n",
    "train, test = dataset[0:train_size,:], dataset[train_size:len(dataset),:]\n",
    "print(len(train), len(test))"
   ]
  },
  {
   "cell_type": "markdown",
   "metadata": {},
   "source": [
    "## 2.4 Dataset Creation Function\n",
    "\n",
    "The function takes two arguments: the dataset, which is a NumPy array that we want to convert into a dataset, and the look_back, which is the number of previous time steps to use as input variables to predict the next time — in this case, defaulted to 1.\n",
    "\n",
    "This default will create a dataset where X is the number of passengers at a given time (t) and Y is the number of passengers at the next time (t + 1)."
   ]
  },
  {
   "cell_type": "code",
   "execution_count": 38,
   "metadata": {},
   "outputs": [],
   "source": [
    "def create_dataset(dataset, look_back=1):\n",
    "    dataX, dataY = [], []\n",
    "    for i in range(len(dataset)-look_back-1):\n",
    "        a = dataset[i:(i+look_back), 0]\n",
    "        dataX.append(a)\n",
    "        dataY.append(dataset[i + look_back, 0])\n",
    "    return np.array(dataX), np.array(dataY)"
   ]
  },
  {
   "cell_type": "code",
   "execution_count": 39,
   "metadata": {},
   "outputs": [],
   "source": [
    "look_back = 1\n",
    "trainX, trainY = create_dataset(train, look_back)\n",
    "testX, testY = create_dataset(test, look_back)"
   ]
  },
  {
   "cell_type": "markdown",
   "metadata": {},
   "source": [
    "reshape input to be [samples, time steps, features]"
   ]
  },
  {
   "cell_type": "code",
   "execution_count": 40,
   "metadata": {},
   "outputs": [
    {
     "name": "stdout",
     "output_type": "stream",
     "text": [
      "shape of train dataset (94, 1, 1)\n",
      "shape of test dataset (46, 1, 1)\n"
     ]
    }
   ],
   "source": [
    "trainX = np.reshape(trainX, (trainX.shape[0], 1, trainX.shape[1]))\n",
    "testX = np.reshape(testX, (testX.shape[0], 1, testX.shape[1]))\n",
    "\n",
    "print('shape of train dataset',trainX.shape)\n",
    "print('shape of test dataset',testX.shape)"
   ]
  },
  {
   "cell_type": "markdown",
   "metadata": {},
   "source": [
    "# 3. LSTM Model"
   ]
  },
  {
   "cell_type": "markdown",
   "metadata": {},
   "source": [
    "## 3.1 creation model's network"
   ]
  },
  {
   "cell_type": "code",
   "execution_count": 50,
   "metadata": {},
   "outputs": [],
   "source": [
    "model = tf.keras.models.Sequential()\n",
    "model.add(tf.keras.layers.LSTM(4, input_shape=(1, look_back)))\n",
    "model.add(tf.keras.layers.Dense(1))"
   ]
  },
  {
   "cell_type": "markdown",
   "metadata": {},
   "source": [
    "summary of the model:"
   ]
  },
  {
   "cell_type": "code",
   "execution_count": 51,
   "metadata": {},
   "outputs": [
    {
     "name": "stdout",
     "output_type": "stream",
     "text": [
      "Model: \"sequential_2\"\n",
      "_________________________________________________________________\n",
      "Layer (type)                 Output Shape              Param #   \n",
      "=================================================================\n",
      "lstm_1 (LSTM)                (None, 4)                 96        \n",
      "_________________________________________________________________\n",
      "dense (Dense)                (None, 1)                 5         \n",
      "=================================================================\n",
      "Total params: 101\n",
      "Trainable params: 101\n",
      "Non-trainable params: 0\n",
      "_________________________________________________________________\n"
     ]
    }
   ],
   "source": [
    "model.summary()"
   ]
  },
  {
   "cell_type": "markdown",
   "metadata": {},
   "source": [
    "## 3.2 compile the model"
   ]
  },
  {
   "cell_type": "code",
   "execution_count": 54,
   "metadata": {},
   "outputs": [],
   "source": [
    "model.compile(loss='mse', optimizer='adam', metrics=['accuracy'])"
   ]
  },
  {
   "cell_type": "markdown",
   "metadata": {},
   "source": [
    "# 3.3 Train the model"
   ]
  },
  {
   "cell_type": "code",
   "execution_count": 55,
   "metadata": {},
   "outputs": [
    {
     "name": "stdout",
     "output_type": "stream",
     "text": [
      "Epoch 1/100\n",
      "94/94 [==============================] - 0s 2ms/step - loss: 0.0020 - accuracy: 0.0106\n",
      "Epoch 2/100\n",
      "94/94 [==============================] - 0s 2ms/step - loss: 0.0021 - accuracy: 0.0106\n",
      "Epoch 3/100\n",
      "94/94 [==============================] - 0s 2ms/step - loss: 0.0021 - accuracy: 0.0106\n",
      "Epoch 4/100\n",
      "94/94 [==============================] - 0s 2ms/step - loss: 0.0020 - accuracy: 0.0106\n",
      "Epoch 5/100\n",
      "94/94 [==============================] - 0s 2ms/step - loss: 0.0020 - accuracy: 0.0106\n",
      "Epoch 6/100\n",
      "94/94 [==============================] - 0s 2ms/step - loss: 0.0020 - accuracy: 0.0106\n",
      "Epoch 7/100\n",
      "94/94 [==============================] - 0s 2ms/step - loss: 0.0020 - accuracy: 0.0106\n",
      "Epoch 8/100\n",
      "94/94 [==============================] - 0s 2ms/step - loss: 0.0020 - accuracy: 0.0106\n",
      "Epoch 9/100\n",
      "94/94 [==============================] - 0s 2ms/step - loss: 0.0020 - accuracy: 0.0106\n",
      "Epoch 10/100\n",
      "94/94 [==============================] - 0s 2ms/step - loss: 0.0020 - accuracy: 0.0106\n",
      "Epoch 11/100\n",
      "94/94 [==============================] - 0s 2ms/step - loss: 0.0020 - accuracy: 0.0106\n",
      "Epoch 12/100\n",
      "94/94 [==============================] - 0s 2ms/step - loss: 0.0020 - accuracy: 0.0106\n",
      "Epoch 13/100\n",
      "94/94 [==============================] - 0s 2ms/step - loss: 0.0019 - accuracy: 0.0106\n",
      "Epoch 14/100\n",
      "94/94 [==============================] - 0s 2ms/step - loss: 0.0020 - accuracy: 0.0106\n",
      "Epoch 15/100\n",
      "94/94 [==============================] - 0s 2ms/step - loss: 0.0020 - accuracy: 0.0106\n",
      "Epoch 16/100\n",
      "94/94 [==============================] - 0s 3ms/step - loss: 0.0019 - accuracy: 0.0106\n",
      "Epoch 17/100\n",
      "94/94 [==============================] - 0s 2ms/step - loss: 0.0020 - accuracy: 0.0106\n",
      "Epoch 18/100\n",
      "94/94 [==============================] - 0s 2ms/step - loss: 0.0020 - accuracy: 0.0106\n",
      "Epoch 19/100\n",
      "94/94 [==============================] - 0s 2ms/step - loss: 0.0020 - accuracy: 0.0106\n",
      "Epoch 20/100\n",
      "94/94 [==============================] - 0s 2ms/step - loss: 0.0020 - accuracy: 0.0106\n",
      "Epoch 21/100\n",
      "94/94 [==============================] - 0s 3ms/step - loss: 0.0019 - accuracy: 0.0106\n",
      "Epoch 22/100\n",
      "94/94 [==============================] - 0s 2ms/step - loss: 0.0020 - accuracy: 0.0106\n",
      "Epoch 23/100\n",
      "94/94 [==============================] - 0s 2ms/step - loss: 0.0019 - accuracy: 0.0106\n",
      "Epoch 24/100\n",
      "94/94 [==============================] - 0s 3ms/step - loss: 0.0021 - accuracy: 0.0106\n",
      "Epoch 25/100\n",
      "94/94 [==============================] - 0s 2ms/step - loss: 0.0020 - accuracy: 0.0106\n",
      "Epoch 26/100\n",
      "94/94 [==============================] - 0s 3ms/step - loss: 0.0020 - accuracy: 0.0106\n",
      "Epoch 27/100\n",
      "94/94 [==============================] - 0s 3ms/step - loss: 0.0020 - accuracy: 0.0106\n",
      "Epoch 28/100\n",
      "94/94 [==============================] - 0s 3ms/step - loss: 0.0020 - accuracy: 0.0106\n",
      "Epoch 29/100\n",
      "94/94 [==============================] - 0s 2ms/step - loss: 0.0020 - accuracy: 0.0106\n",
      "Epoch 30/100\n",
      "94/94 [==============================] - 0s 2ms/step - loss: 0.0020 - accuracy: 0.0106\n",
      "Epoch 31/100\n",
      "94/94 [==============================] - 0s 2ms/step - loss: 0.0019 - accuracy: 0.0106\n",
      "Epoch 32/100\n",
      "94/94 [==============================] - 0s 2ms/step - loss: 0.0020 - accuracy: 0.0106\n",
      "Epoch 33/100\n",
      "94/94 [==============================] - 0s 2ms/step - loss: 0.0020 - accuracy: 0.0106\n",
      "Epoch 34/100\n",
      "94/94 [==============================] - 0s 2ms/step - loss: 0.0020 - accuracy: 0.0106\n",
      "Epoch 35/100\n",
      "94/94 [==============================] - 0s 3ms/step - loss: 0.0020 - accuracy: 0.0106\n",
      "Epoch 36/100\n",
      "94/94 [==============================] - 0s 2ms/step - loss: 0.0020 - accuracy: 0.0106\n",
      "Epoch 37/100\n",
      "94/94 [==============================] - 0s 2ms/step - loss: 0.0021 - accuracy: 0.0106\n",
      "Epoch 38/100\n",
      "94/94 [==============================] - 0s 2ms/step - loss: 0.0020 - accuracy: 0.0106\n",
      "Epoch 39/100\n",
      "94/94 [==============================] - 0s 3ms/step - loss: 0.0020 - accuracy: 0.0106\n",
      "Epoch 40/100\n",
      "94/94 [==============================] - 0s 3ms/step - loss: 0.0019 - accuracy: 0.0106\n",
      "Epoch 41/100\n",
      "94/94 [==============================] - 0s 3ms/step - loss: 0.0020 - accuracy: 0.0106\n",
      "Epoch 42/100\n",
      "94/94 [==============================] - 0s 2ms/step - loss: 0.0019 - accuracy: 0.0106\n",
      "Epoch 43/100\n",
      "94/94 [==============================] - 0s 2ms/step - loss: 0.0020 - accuracy: 0.0106\n",
      "Epoch 44/100\n",
      "94/94 [==============================] - 0s 2ms/step - loss: 0.0020 - accuracy: 0.0106\n",
      "Epoch 45/100\n",
      "94/94 [==============================] - 0s 2ms/step - loss: 0.0020 - accuracy: 0.0106\n",
      "Epoch 46/100\n",
      "94/94 [==============================] - 0s 2ms/step - loss: 0.0020 - accuracy: 0.0106\n",
      "Epoch 47/100\n",
      "94/94 [==============================] - 0s 2ms/step - loss: 0.0020 - accuracy: 0.0106\n",
      "Epoch 48/100\n",
      "94/94 [==============================] - 0s 3ms/step - loss: 0.0020 - accuracy: 0.0106\n",
      "Epoch 49/100\n",
      "94/94 [==============================] - 0s 2ms/step - loss: 0.0020 - accuracy: 0.0106\n",
      "Epoch 50/100\n",
      "94/94 [==============================] - 0s 2ms/step - loss: 0.0019 - accuracy: 0.0106\n",
      "Epoch 51/100\n",
      "94/94 [==============================] - 0s 2ms/step - loss: 0.0020 - accuracy: 0.0106\n",
      "Epoch 52/100\n",
      "94/94 [==============================] - 0s 2ms/step - loss: 0.0020 - accuracy: 0.0106\n",
      "Epoch 53/100\n",
      "94/94 [==============================] - 0s 2ms/step - loss: 0.0019 - accuracy: 0.0106\n",
      "Epoch 54/100\n",
      "94/94 [==============================] - 0s 2ms/step - loss: 0.0020 - accuracy: 0.0106\n",
      "Epoch 55/100\n",
      "94/94 [==============================] - 0s 2ms/step - loss: 0.0020 - accuracy: 0.0106\n",
      "Epoch 56/100\n",
      "94/94 [==============================] - 0s 2ms/step - loss: 0.0019 - accuracy: 0.0106\n",
      "Epoch 57/100\n",
      "94/94 [==============================] - 0s 2ms/step - loss: 0.0020 - accuracy: 0.0106\n",
      "Epoch 58/100\n",
      "94/94 [==============================] - 0s 2ms/step - loss: 0.0020 - accuracy: 0.0106\n",
      "Epoch 59/100\n",
      "94/94 [==============================] - 0s 2ms/step - loss: 0.0020 - accuracy: 0.0106\n",
      "Epoch 60/100\n",
      "94/94 [==============================] - 0s 2ms/step - loss: 0.0020 - accuracy: 0.0106\n",
      "Epoch 61/100\n",
      "94/94 [==============================] - 0s 2ms/step - loss: 0.0019 - accuracy: 0.0106\n",
      "Epoch 62/100\n",
      "94/94 [==============================] - 0s 2ms/step - loss: 0.0021 - accuracy: 0.0106\n",
      "Epoch 63/100\n",
      "94/94 [==============================] - 0s 2ms/step - loss: 0.0020 - accuracy: 0.0106\n",
      "Epoch 64/100\n",
      "94/94 [==============================] - 0s 2ms/step - loss: 0.0020 - accuracy: 0.0106\n",
      "Epoch 65/100\n",
      "94/94 [==============================] - 0s 2ms/step - loss: 0.0020 - accuracy: 0.0106\n",
      "Epoch 66/100\n",
      "94/94 [==============================] - 0s 2ms/step - loss: 0.0020 - accuracy: 0.0106\n",
      "Epoch 67/100\n",
      "94/94 [==============================] - 0s 2ms/step - loss: 0.0020 - accuracy: 0.0106\n",
      "Epoch 68/100\n",
      "94/94 [==============================] - 0s 2ms/step - loss: 0.0020 - accuracy: 0.0106\n",
      "Epoch 69/100\n",
      "94/94 [==============================] - 0s 2ms/step - loss: 0.0020 - accuracy: 0.0106\n",
      "Epoch 70/100\n",
      "94/94 [==============================] - 0s 2ms/step - loss: 0.0020 - accuracy: 0.0106\n",
      "Epoch 71/100\n",
      "94/94 [==============================] - 0s 2ms/step - loss: 0.0020 - accuracy: 0.0106\n",
      "Epoch 72/100\n",
      "94/94 [==============================] - 0s 2ms/step - loss: 0.0019 - accuracy: 0.0106\n",
      "Epoch 73/100\n",
      "94/94 [==============================] - 0s 2ms/step - loss: 0.0020 - accuracy: 0.0106\n",
      "Epoch 74/100\n",
      "94/94 [==============================] - 0s 2ms/step - loss: 0.0020 - accuracy: 0.0106\n",
      "Epoch 75/100\n",
      "94/94 [==============================] - 0s 2ms/step - loss: 0.0020 - accuracy: 0.0106\n",
      "Epoch 76/100\n",
      "94/94 [==============================] - 0s 2ms/step - loss: 0.0020 - accuracy: 0.0106\n",
      "Epoch 77/100\n",
      "94/94 [==============================] - 0s 2ms/step - loss: 0.0020 - accuracy: 0.0106\n",
      "Epoch 78/100\n",
      "94/94 [==============================] - 0s 3ms/step - loss: 0.0019 - accuracy: 0.0106\n",
      "Epoch 79/100\n",
      "94/94 [==============================] - 0s 2ms/step - loss: 0.0019 - accuracy: 0.0106\n",
      "Epoch 80/100\n",
      "94/94 [==============================] - 0s 2ms/step - loss: 0.0020 - accuracy: 0.0106\n",
      "Epoch 81/100\n",
      "94/94 [==============================] - 0s 2ms/step - loss: 0.0020 - accuracy: 0.0106\n",
      "Epoch 82/100\n",
      "94/94 [==============================] - 0s 2ms/step - loss: 0.0020 - accuracy: 0.0106\n",
      "Epoch 83/100\n"
     ]
    },
    {
     "name": "stdout",
     "output_type": "stream",
     "text": [
      "94/94 [==============================] - ETA: 0s - loss: 0.0018 - accuracy: 0.01 - 0s 2ms/step - loss: 0.0019 - accuracy: 0.0106\n",
      "Epoch 84/100\n",
      "94/94 [==============================] - 0s 2ms/step - loss: 0.0019 - accuracy: 0.0106\n",
      "Epoch 85/100\n",
      "94/94 [==============================] - 0s 2ms/step - loss: 0.0020 - accuracy: 0.0106\n",
      "Epoch 86/100\n",
      "94/94 [==============================] - 0s 2ms/step - loss: 0.0020 - accuracy: 0.0106\n",
      "Epoch 87/100\n",
      "94/94 [==============================] - 0s 2ms/step - loss: 0.0020 - accuracy: 0.0106\n",
      "Epoch 88/100\n",
      "94/94 [==============================] - 0s 2ms/step - loss: 0.0019 - accuracy: 0.0106\n",
      "Epoch 89/100\n",
      "94/94 [==============================] - 0s 2ms/step - loss: 0.0019 - accuracy: 0.0106\n",
      "Epoch 90/100\n",
      "94/94 [==============================] - 0s 2ms/step - loss: 0.0020 - accuracy: 0.0106\n",
      "Epoch 91/100\n",
      "94/94 [==============================] - 0s 2ms/step - loss: 0.0020 - accuracy: 0.0106\n",
      "Epoch 92/100\n",
      "94/94 [==============================] - 0s 2ms/step - loss: 0.0019 - accuracy: 0.0106\n",
      "Epoch 93/100\n",
      "94/94 [==============================] - 0s 2ms/step - loss: 0.0020 - accuracy: 0.0106\n",
      "Epoch 94/100\n",
      "94/94 [==============================] - 0s 2ms/step - loss: 0.0020 - accuracy: 0.0106\n",
      "Epoch 95/100\n",
      "94/94 [==============================] - 0s 2ms/step - loss: 0.0020 - accuracy: 0.0106\n",
      "Epoch 96/100\n",
      "94/94 [==============================] - 0s 2ms/step - loss: 0.0020 - accuracy: 0.0106\n",
      "Epoch 97/100\n",
      "94/94 [==============================] - 0s 2ms/step - loss: 0.0020 - accuracy: 0.0106\n",
      "Epoch 98/100\n",
      "94/94 [==============================] - 0s 2ms/step - loss: 0.0020 - accuracy: 0.0106\n",
      "Epoch 99/100\n",
      "94/94 [==============================] - 0s 3ms/step - loss: 0.0020 - accuracy: 0.0106\n",
      "Epoch 100/100\n",
      "94/94 [==============================] - 0s 2ms/step - loss: 0.0020 - accuracy: 0.0106\n"
     ]
    }
   ],
   "source": [
    "history = model.fit(trainX, trainY, epochs=100, batch_size=1, verbose=1)"
   ]
  },
  {
   "cell_type": "markdown",
   "metadata": {},
   "source": [
    "## 3.4 Make predictions"
   ]
  },
  {
   "cell_type": "code",
   "execution_count": 56,
   "metadata": {},
   "outputs": [],
   "source": [
    "trainPredict = model.predict(trainX)\n",
    "testPredict = model.predict(testX)"
   ]
  },
  {
   "cell_type": "markdown",
   "metadata": {},
   "source": [
    "invert predictions:"
   ]
  },
  {
   "cell_type": "code",
   "execution_count": 57,
   "metadata": {},
   "outputs": [],
   "source": [
    "trainPredict = scaler.inverse_transform(trainPredict)\n",
    "trainY = scaler.inverse_transform([trainY])\n",
    "testPredict = scaler.inverse_transform(testPredict)\n",
    "testY = scaler.inverse_transform([testY])"
   ]
  },
  {
   "cell_type": "markdown",
   "metadata": {},
   "source": [
    "calculate root mean squared error:"
   ]
  },
  {
   "cell_type": "code",
   "execution_count": 59,
   "metadata": {},
   "outputs": [
    {
     "name": "stdout",
     "output_type": "stream",
     "text": [
      "Train Score: 22.64 RMSE\n",
      "Test Score: 52.15 RMSE\n"
     ]
    }
   ],
   "source": [
    "trainScore = math.sqrt(mean_squared_error(trainY[0], trainPredict[:,0]))\n",
    "print('Train Score: %.2f RMSE' % (trainScore))\n",
    "testScore = math.sqrt(mean_squared_error(testY[0], testPredict[:,0]))\n",
    "print('Test Score: %.2f RMSE' % (testScore))"
   ]
  },
  {
   "cell_type": "markdown",
   "metadata": {},
   "source": [
    "# 4. Plot Predictions"
   ]
  },
  {
   "cell_type": "markdown",
   "metadata": {},
   "source": [
    "Because of how the dataset was prepared, we must shift the predictions so that they align on the x-axis with the original dataset. Once prepared, the data is plotted, showing the original dataset in blue, the predictions for the training dataset in green, and the predictions on the unseen test dataset in red."
   ]
  },
  {
   "cell_type": "markdown",
   "metadata": {},
   "source": [
    "## 4.1 Shift train predictions for plotting"
   ]
  },
  {
   "cell_type": "code",
   "execution_count": 62,
   "metadata": {},
   "outputs": [],
   "source": [
    "trainPredictPlot = np.empty_like(dataset)\n",
    "trainPredictPlot[:, :] = np.nan\n",
    "trainPredictPlot[look_back:len(trainPredict)+look_back, :] = trainPredict"
   ]
  },
  {
   "cell_type": "markdown",
   "metadata": {},
   "source": [
    "## 4.2 Shift test predictions for plotting"
   ]
  },
  {
   "cell_type": "code",
   "execution_count": 64,
   "metadata": {},
   "outputs": [],
   "source": [
    "testPredictPlot = np.empty_like(dataset)\n",
    "testPredictPlot[:, :] = np.nan\n",
    "testPredictPlot[len(trainPredict)+(look_back*2)+1:len(dataset)-1, :] = testPredict"
   ]
  },
  {
   "cell_type": "markdown",
   "metadata": {},
   "source": [
    "## 4.3 Plot baseline and predictions"
   ]
  },
  {
   "cell_type": "code",
   "execution_count": 66,
   "metadata": {},
   "outputs": [
    {
     "data": {
      "image/png": "[encoded data removed]",
      "text/plain": [
       "<Figure size 432x288 with 1 Axes>"
      ]
     },
     "metadata": {
      "needs_background": "light"
     },
     "output_type": "display_data"
    }
   ],
   "source": [
    "plt.plot(scaler.inverse_transform(dataset), 'red')\n",
    "plt.plot(trainPredictPlot, 'blue')\n",
    "plt.plot(testPredictPlot, 'green')\n",
    "plt.show()"
   ]
  },
  {
   "cell_type": "markdown",
   "metadata": {},
   "source": [
    "# 5. LSTM for Regression Using the Window Method"
   ]
  },
  {
   "cell_type": "markdown",
   "metadata": {},
   "source": [
    "We can also phrase the problem so that multiple, recent time steps can be used to make the prediction for the next time step.\n",
    "\n",
    "This is called a window, and the size of the window is a parameter that can be tuned for each problem.\n",
    "\n",
    "For example, given the current time (t) we want to predict the value at the next time in the sequence (t+1), we can use the current time (t), as well as the two prior times (t-1 and t-2) as input variables.\n",
    "\n",
    "When phrased as a regression problem, the input variables are t-2, t-1, t and the output variable is t+1."
   ]
  },
  {
   "cell_type": "code",
   "execution_count": 89,
   "metadata": {},
   "outputs": [],
   "source": [
    "look_back = 3\n",
    "trainX, trainY = create_dataset(train, look_back)\n",
    "testX, testY = create_dataset(test, look_back)"
   ]
  },
  {
   "cell_type": "code",
   "execution_count": 90,
   "metadata": {},
   "outputs": [
    {
     "name": "stdout",
     "output_type": "stream",
     "text": [
      "shape of train dataset (92, 1, 3)\n",
      "shape of test dataset (44, 1, 3)\n"
     ]
    }
   ],
   "source": [
    "trainX = np.reshape(trainX, (trainX.shape[0], 1, trainX.shape[1]))\n",
    "testX = np.reshape(testX, (testX.shape[0], 1, testX.shape[1]))\n",
    "\n",
    "print('shape of train dataset',trainX.shape)\n",
    "print('shape of test dataset',testX.shape)"
   ]
  },
  {
   "cell_type": "code",
   "execution_count": 91,
   "metadata": {},
   "outputs": [],
   "source": [
    "model = tf.keras.models.Sequential()\n",
    "model.add(tf.keras.layers.LSTM(4, input_shape=(1, look_back)))\n",
    "model.add(tf.keras.layers.Dense(1))"
   ]
  },
  {
   "cell_type": "code",
   "execution_count": 92,
   "metadata": {},
   "outputs": [
    {
     "name": "stdout",
     "output_type": "stream",
     "text": [
      "Model: \"sequential_6\"\n",
      "_________________________________________________________________\n",
      "Layer (type)                 Output Shape              Param #   \n",
      "=================================================================\n",
      "lstm_5 (LSTM)                (None, 4)                 128       \n",
      "_________________________________________________________________\n",
      "dense_4 (Dense)              (None, 1)                 5         \n",
      "=================================================================\n",
      "Total params: 133\n",
      "Trainable params: 133\n",
      "Non-trainable params: 0\n",
      "_________________________________________________________________\n"
     ]
    }
   ],
   "source": [
    "model.summary()"
   ]
  },
  {
   "cell_type": "code",
   "execution_count": 93,
   "metadata": {},
   "outputs": [],
   "source": [
    "model.compile(loss='mse', optimizer='adam', metrics=['accuracy'])"
   ]
  },
  {
   "cell_type": "code",
   "execution_count": 94,
   "metadata": {},
   "outputs": [
    {
     "name": "stdout",
     "output_type": "stream",
     "text": [
      "Epoch 1/100\n",
      "92/92 [==============================] - 0s 2ms/step - loss: 0.0510 - accuracy: 0.0109\n",
      "Epoch 2/100\n",
      "92/92 [==============================] - 0s 2ms/step - loss: 0.0234 - accuracy: 0.0109\n",
      "Epoch 3/100\n",
      "92/92 [==============================] - 0s 2ms/step - loss: 0.0149 - accuracy: 0.0109\n",
      "Epoch 4/100\n",
      "92/92 [==============================] - 0s 2ms/step - loss: 0.0128 - accuracy: 0.0109\n",
      "Epoch 5/100\n",
      "92/92 [==============================] - 0s 2ms/step - loss: 0.0117 - accuracy: 0.0109\n",
      "Epoch 6/100\n",
      "92/92 [==============================] - 0s 3ms/step - loss: 0.0103 - accuracy: 0.0109\n",
      "Epoch 7/100\n",
      "92/92 [==============================] - 0s 3ms/step - loss: 0.0092 - accuracy: 0.0109\n",
      "Epoch 8/100\n",
      "92/92 [==============================] - 0s 3ms/step - loss: 0.0082 - accuracy: 0.0109\n",
      "Epoch 9/100\n",
      "92/92 [==============================] - 0s 2ms/step - loss: 0.0072 - accuracy: 0.0109\n",
      "Epoch 10/100\n",
      "92/92 [==============================] - 0s 2ms/step - loss: 0.0065 - accuracy: 0.0109\n",
      "Epoch 11/100\n",
      "92/92 [==============================] - 0s 2ms/step - loss: 0.0057 - accuracy: 0.0109\n",
      "Epoch 12/100\n",
      "92/92 [==============================] - 0s 2ms/step - loss: 0.0053 - accuracy: 0.0109\n",
      "Epoch 13/100\n",
      "92/92 [==============================] - 0s 2ms/step - loss: 0.0048 - accuracy: 0.0109\n",
      "Epoch 14/100\n",
      "92/92 [==============================] - 0s 2ms/step - loss: 0.0045 - accuracy: 0.0109\n",
      "Epoch 15/100\n",
      "92/92 [==============================] - 0s 2ms/step - loss: 0.0043 - accuracy: 0.0109\n",
      "Epoch 16/100\n",
      "92/92 [==============================] - 0s 2ms/step - loss: 0.0042 - accuracy: 0.0109\n",
      "Epoch 17/100\n",
      "92/92 [==============================] - 0s 2ms/step - loss: 0.0040 - accuracy: 0.0109\n",
      "Epoch 18/100\n",
      "92/92 [==============================] - 0s 2ms/step - loss: 0.0040 - accuracy: 0.0109\n",
      "Epoch 19/100\n",
      "92/92 [==============================] - 0s 2ms/step - loss: 0.0038 - accuracy: 0.0109\n",
      "Epoch 20/100\n",
      "92/92 [==============================] - 0s 2ms/step - loss: 0.0037 - accuracy: 0.0109\n",
      "Epoch 21/100\n",
      "92/92 [==============================] - 0s 2ms/step - loss: 0.0037 - accuracy: 0.0109\n",
      "Epoch 22/100\n",
      "92/92 [==============================] - 0s 2ms/step - loss: 0.0037 - accuracy: 0.0109\n",
      "Epoch 23/100\n",
      "92/92 [==============================] - 0s 2ms/step - loss: 0.0036 - accuracy: 0.0109\n",
      "Epoch 24/100\n",
      "92/92 [==============================] - 0s 3ms/step - loss: 0.0036 - accuracy: 0.0109\n",
      "Epoch 25/100\n",
      "92/92 [==============================] - 0s 2ms/step - loss: 0.0035 - accuracy: 0.0109\n",
      "Epoch 26/100\n",
      "92/92 [==============================] - 0s 2ms/step - loss: 0.0035 - accuracy: 0.0109\n",
      "Epoch 27/100\n",
      "92/92 [==============================] - 0s 2ms/step - loss: 0.0034 - accuracy: 0.0109\n",
      "Epoch 28/100\n",
      "92/92 [==============================] - 0s 2ms/step - loss: 0.0034 - accuracy: 0.0109\n",
      "Epoch 29/100\n",
      "92/92 [==============================] - 0s 2ms/step - loss: 0.0034 - accuracy: 0.0109\n",
      "Epoch 30/100\n",
      "92/92 [==============================] - 0s 2ms/step - loss: 0.0033 - accuracy: 0.0109\n",
      "Epoch 31/100\n",
      "92/92 [==============================] - 0s 2ms/step - loss: 0.0035 - accuracy: 0.0109\n",
      "Epoch 32/100\n",
      "92/92 [==============================] - 0s 2ms/step - loss: 0.0033 - accuracy: 0.0109\n",
      "Epoch 33/100\n",
      "92/92 [==============================] - 0s 2ms/step - loss: 0.0033 - accuracy: 0.0109\n",
      "Epoch 34/100\n",
      "92/92 [==============================] - 0s 2ms/step - loss: 0.0032 - accuracy: 0.0109\n",
      "Epoch 35/100\n",
      "92/92 [==============================] - 0s 2ms/step - loss: 0.0033 - accuracy: 0.0109\n",
      "Epoch 36/100\n",
      "92/92 [==============================] - 0s 2ms/step - loss: 0.0032 - accuracy: 0.0109\n",
      "Epoch 37/100\n",
      "92/92 [==============================] - 0s 2ms/step - loss: 0.0031 - accuracy: 0.0109\n",
      "Epoch 38/100\n",
      "92/92 [==============================] - 0s 2ms/step - loss: 0.0032 - accuracy: 0.0109\n",
      "Epoch 39/100\n",
      "92/92 [==============================] - 0s 2ms/step - loss: 0.0032 - accuracy: 0.0109\n",
      "Epoch 40/100\n",
      "92/92 [==============================] - 0s 2ms/step - loss: 0.0032 - accuracy: 0.0109\n",
      "Epoch 41/100\n",
      "92/92 [==============================] - 0s 2ms/step - loss: 0.0031 - accuracy: 0.0109\n",
      "Epoch 42/100\n",
      "92/92 [==============================] - 0s 2ms/step - loss: 0.0031 - accuracy: 0.0109\n",
      "Epoch 43/100\n",
      "92/92 [==============================] - 0s 2ms/step - loss: 0.0029 - accuracy: 0.0109\n",
      "Epoch 44/100\n",
      "92/92 [==============================] - 0s 2ms/step - loss: 0.0030 - accuracy: 0.0109\n",
      "Epoch 45/100\n",
      "92/92 [==============================] - 0s 2ms/step - loss: 0.0030 - accuracy: 0.0109\n",
      "Epoch 46/100\n",
      "92/92 [==============================] - 0s 2ms/step - loss: 0.0029 - accuracy: 0.0109\n",
      "Epoch 47/100\n",
      "92/92 [==============================] - 0s 2ms/step - loss: 0.0029 - accuracy: 0.0109\n",
      "Epoch 48/100\n",
      "92/92 [==============================] - 0s 2ms/step - loss: 0.0029 - accuracy: 0.0109\n",
      "Epoch 49/100\n",
      "92/92 [==============================] - 0s 2ms/step - loss: 0.0030 - accuracy: 0.0109\n",
      "Epoch 50/100\n",
      "92/92 [==============================] - 0s 2ms/step - loss: 0.0028 - accuracy: 0.0109\n",
      "Epoch 51/100\n",
      "92/92 [==============================] - 0s 2ms/step - loss: 0.0028 - accuracy: 0.0109\n",
      "Epoch 52/100\n",
      "92/92 [==============================] - 0s 2ms/step - loss: 0.0027 - accuracy: 0.0109\n",
      "Epoch 53/100\n",
      "92/92 [==============================] - 0s 2ms/step - loss: 0.0027 - accuracy: 0.0109\n",
      "Epoch 54/100\n",
      "92/92 [==============================] - 0s 2ms/step - loss: 0.0027 - accuracy: 0.0109\n",
      "Epoch 55/100\n",
      "92/92 [==============================] - 0s 2ms/step - loss: 0.0027 - accuracy: 0.0109\n",
      "Epoch 56/100\n",
      "92/92 [==============================] - 0s 2ms/step - loss: 0.0027 - accuracy: 0.0109\n",
      "Epoch 57/100\n",
      "92/92 [==============================] - 0s 2ms/step - loss: 0.0026 - accuracy: 0.0109\n",
      "Epoch 58/100\n",
      "92/92 [==============================] - 0s 2ms/step - loss: 0.0026 - accuracy: 0.0109\n",
      "Epoch 59/100\n",
      "92/92 [==============================] - 0s 2ms/step - loss: 0.0027 - accuracy: 0.0109\n",
      "Epoch 60/100\n",
      "92/92 [==============================] - 0s 2ms/step - loss: 0.0025 - accuracy: 0.0109\n",
      "Epoch 61/100\n",
      "92/92 [==============================] - 0s 2ms/step - loss: 0.0026 - accuracy: 0.0109\n",
      "Epoch 62/100\n",
      "92/92 [==============================] - 0s 2ms/step - loss: 0.0025 - accuracy: 0.0109\n",
      "Epoch 63/100\n",
      "92/92 [==============================] - 0s 2ms/step - loss: 0.0026 - accuracy: 0.0109\n",
      "Epoch 64/100\n",
      "92/92 [==============================] - 0s 2ms/step - loss: 0.0025 - accuracy: 0.0109\n",
      "Epoch 65/100\n",
      "92/92 [==============================] - 0s 2ms/step - loss: 0.0026 - accuracy: 0.0109\n",
      "Epoch 66/100\n",
      "92/92 [==============================] - 0s 2ms/step - loss: 0.0025 - accuracy: 0.0109\n",
      "Epoch 67/100\n",
      "92/92 [==============================] - 0s 2ms/step - loss: 0.0024 - accuracy: 0.0109\n",
      "Epoch 68/100\n",
      "92/92 [==============================] - 0s 2ms/step - loss: 0.0024 - accuracy: 0.0109\n",
      "Epoch 69/100\n",
      "92/92 [==============================] - 0s 2ms/step - loss: 0.0024 - accuracy: 0.0109\n",
      "Epoch 70/100\n",
      "92/92 [==============================] - 0s 2ms/step - loss: 0.0024 - accuracy: 0.0109\n",
      "Epoch 71/100\n",
      "92/92 [==============================] - 0s 2ms/step - loss: 0.0023 - accuracy: 0.0109\n",
      "Epoch 72/100\n",
      "92/92 [==============================] - 0s 2ms/step - loss: 0.0023 - accuracy: 0.0109\n",
      "Epoch 73/100\n",
      "92/92 [==============================] - 0s 2ms/step - loss: 0.0023 - accuracy: 0.0109\n",
      "Epoch 74/100\n",
      "92/92 [==============================] - 0s 2ms/step - loss: 0.0023 - accuracy: 0.0109\n",
      "Epoch 75/100\n",
      "92/92 [==============================] - 0s 2ms/step - loss: 0.0023 - accuracy: 0.0109\n",
      "Epoch 76/100\n",
      "92/92 [==============================] - 0s 2ms/step - loss: 0.0023 - accuracy: 0.0109\n",
      "Epoch 77/100\n",
      "92/92 [==============================] - 0s 2ms/step - loss: 0.0022 - accuracy: 0.0109\n",
      "Epoch 78/100\n",
      "92/92 [==============================] - 0s 2ms/step - loss: 0.0024 - accuracy: 0.0109\n",
      "Epoch 79/100\n",
      "92/92 [==============================] - 0s 2ms/step - loss: 0.0023 - accuracy: 0.0109\n",
      "Epoch 80/100\n",
      "92/92 [==============================] - 0s 2ms/step - loss: 0.0023 - accuracy: 0.0109\n",
      "Epoch 81/100\n",
      "92/92 [==============================] - 0s 2ms/step - loss: 0.0022 - accuracy: 0.0109\n",
      "Epoch 82/100\n"
     ]
    },
    {
     "name": "stdout",
     "output_type": "stream",
     "text": [
      "92/92 [==============================] - 0s 2ms/step - loss: 0.0022 - accuracy: 0.0109\n",
      "Epoch 83/100\n",
      "92/92 [==============================] - 0s 2ms/step - loss: 0.0022 - accuracy: 0.0109\n",
      "Epoch 84/100\n",
      "92/92 [==============================] - 0s 2ms/step - loss: 0.0022 - accuracy: 0.0109\n",
      "Epoch 85/100\n",
      "92/92 [==============================] - 0s 2ms/step - loss: 0.0022 - accuracy: 0.0109\n",
      "Epoch 86/100\n",
      "92/92 [==============================] - 0s 2ms/step - loss: 0.0023 - accuracy: 0.0109\n",
      "Epoch 87/100\n",
      "92/92 [==============================] - 0s 2ms/step - loss: 0.0022 - accuracy: 0.0109\n",
      "Epoch 88/100\n",
      "92/92 [==============================] - 0s 2ms/step - loss: 0.0023 - accuracy: 0.0109\n",
      "Epoch 89/100\n",
      "92/92 [==============================] - 0s 2ms/step - loss: 0.0022 - accuracy: 0.0109\n",
      "Epoch 90/100\n",
      "92/92 [==============================] - 0s 2ms/step - loss: 0.0022 - accuracy: 0.0109\n",
      "Epoch 91/100\n",
      "92/92 [==============================] - 0s 2ms/step - loss: 0.0021 - accuracy: 0.0109\n",
      "Epoch 92/100\n",
      "92/92 [==============================] - 0s 2ms/step - loss: 0.0021 - accuracy: 0.0109\n",
      "Epoch 93/100\n",
      "92/92 [==============================] - 0s 2ms/step - loss: 0.0021 - accuracy: 0.0109\n",
      "Epoch 94/100\n",
      "92/92 [==============================] - 0s 2ms/step - loss: 0.0021 - accuracy: 0.0109\n",
      "Epoch 95/100\n",
      "92/92 [==============================] - 0s 2ms/step - loss: 0.0021 - accuracy: 0.0109\n",
      "Epoch 96/100\n",
      "92/92 [==============================] - 0s 2ms/step - loss: 0.0021 - accuracy: 0.0109\n",
      "Epoch 97/100\n",
      "92/92 [==============================] - 0s 2ms/step - loss: 0.0021 - accuracy: 0.0109\n",
      "Epoch 98/100\n",
      "92/92 [==============================] - 0s 2ms/step - loss: 0.0021 - accuracy: 0.0109\n",
      "Epoch 99/100\n",
      "92/92 [==============================] - 0s 2ms/step - loss: 0.0021 - accuracy: 0.0109\n",
      "Epoch 100/100\n",
      "92/92 [==============================] - 0s 2ms/step - loss: 0.0021 - accuracy: 0.0109\n"
     ]
    }
   ],
   "source": [
    "history = model.fit(trainX, trainY, epochs=100, batch_size=1, verbose=1)"
   ]
  },
  {
   "cell_type": "code",
   "execution_count": 95,
   "metadata": {},
   "outputs": [],
   "source": [
    "trainPredict = model.predict(trainX)\n",
    "testPredict = model.predict(testX)"
   ]
  },
  {
   "cell_type": "code",
   "execution_count": 96,
   "metadata": {},
   "outputs": [],
   "source": [
    "trainPredict = scaler.inverse_transform(trainPredict)\n",
    "trainY = scaler.inverse_transform([trainY])\n",
    "testPredict = scaler.inverse_transform(testPredict)\n",
    "testY = scaler.inverse_transform([testY])"
   ]
  },
  {
   "cell_type": "code",
   "execution_count": 97,
   "metadata": {},
   "outputs": [
    {
     "name": "stdout",
     "output_type": "stream",
     "text": [
      "Train Score: 23.27 RMSE\n",
      "Test Score: 58.29 RMSE\n"
     ]
    }
   ],
   "source": [
    "trainScore = math.sqrt(mean_squared_error(trainY[0], trainPredict[:,0]))\n",
    "print('Train Score: %.2f RMSE' % (trainScore))\n",
    "testScore = math.sqrt(mean_squared_error(testY[0], testPredict[:,0]))\n",
    "print('Test Score: %.2f RMSE' % (testScore))"
   ]
  },
  {
   "cell_type": "code",
   "execution_count": 98,
   "metadata": {},
   "outputs": [],
   "source": [
    "trainPredictPlot = np.empty_like(dataset)\n",
    "trainPredictPlot[:, :] = np.nan\n",
    "trainPredictPlot[look_back:len(trainPredict)+look_back, :] = trainPredict"
   ]
  },
  {
   "cell_type": "code",
   "execution_count": 99,
   "metadata": {},
   "outputs": [],
   "source": [
    "testPredictPlot = np.empty_like(dataset)\n",
    "testPredictPlot[:, :] = np.nan\n",
    "testPredictPlot[len(trainPredict)+(look_back*2)+1:len(dataset)-1, :] = testPredict"
   ]
  },
  {
   "cell_type": "code",
   "execution_count": 100,
   "metadata": {},
   "outputs": [
    {
     "data": {
      "image/png": "[encoded data removed]",
      "text/plain": [
       "<Figure size 432x288 with 1 Axes>"
      ]
     },
     "metadata": {
      "needs_background": "light"
     },
     "output_type": "display_data"
    }
   ],
   "source": [
    "plt.plot(scaler.inverse_transform(dataset), 'red')\n",
    "plt.plot(trainPredictPlot, 'blue')\n",
    "plt.plot(testPredictPlot, 'green')\n",
    "plt.show()"
   ]
  },
  {
   "cell_type": "markdown",
   "metadata": {},
   "source": [
    "# 6. LSTM for Regression with Time Steps"
   ]
  },
  {
   "cell_type": "markdown",
   "metadata": {},
   "source": [
    "You may have noticed that the data preparation for the LSTM network includes time steps.\n",
    "\n",
    "Some sequence problems may have a varied number of time steps per sample. For example, you may have measurements of a physical machine leading up to a point of failure or a point of surge. Each incident would be a sample the observations that lead up to the event would be the time steps, and the variables observed would be the features.\n",
    "\n",
    "Time steps provide another way to phrase our time series problem. Like above in the window example, we can take prior time steps in our time series as inputs to predict the output at the next time step.\n",
    "\n",
    "Instead of phrasing the past observations as separate input features, we can use them as time steps of the one input feature, which is indeed a more accurate framing of the problem.\n",
    "\n",
    "We can do this using the same data representation as in the previous window-based example, except when we reshape the data, we set the columns to be the time steps dimension and change the features dimension back to 1. For example:"
   ]
  },
  {
   "cell_type": "code",
   "execution_count": 110,
   "metadata": {},
   "outputs": [],
   "source": [
    "look_back = 3\n",
    "trainX, trainY = create_dataset(train, look_back)\n",
    "testX, testY = create_dataset(test, look_back)"
   ]
  },
  {
   "cell_type": "code",
   "execution_count": 111,
   "metadata": {},
   "outputs": [
    {
     "name": "stdout",
     "output_type": "stream",
     "text": [
      "shape of train dataset (92, 3, 1)\n",
      "shape of test dataset (44, 3, 1)\n"
     ]
    }
   ],
   "source": [
    "# reshape input to be [samples, time steps, features]\n",
    "trainX = np.reshape(trainX, (trainX.shape[0], trainX.shape[1], 1))\n",
    "testX = np.reshape(testX, (testX.shape[0], testX.shape[1], 1))\n",
    "\n",
    "\n",
    "print('shape of train dataset',trainX.shape)\n",
    "print('shape of test dataset',testX.shape)"
   ]
  },
  {
   "cell_type": "code",
   "execution_count": 116,
   "metadata": {},
   "outputs": [],
   "source": [
    "model = tf.keras.models.Sequential()\n",
    "model.add(tf.keras.layers.LSTM(4, input_shape=(look_back, 1)))\n",
    "model.add(tf.keras.layers.Dense(1))"
   ]
  },
  {
   "cell_type": "code",
   "execution_count": 117,
   "metadata": {},
   "outputs": [
    {
     "name": "stdout",
     "output_type": "stream",
     "text": [
      "Model: \"sequential_9\"\n",
      "_________________________________________________________________\n",
      "Layer (type)                 Output Shape              Param #   \n",
      "=================================================================\n",
      "lstm_8 (LSTM)                (None, 4)                 96        \n",
      "_________________________________________________________________\n",
      "dense_7 (Dense)              (None, 1)                 5         \n",
      "=================================================================\n",
      "Total params: 101\n",
      "Trainable params: 101\n",
      "Non-trainable params: 0\n",
      "_________________________________________________________________\n"
     ]
    }
   ],
   "source": [
    "model.summary()"
   ]
  },
  {
   "cell_type": "code",
   "execution_count": 118,
   "metadata": {},
   "outputs": [],
   "source": [
    "model.compile(loss='mse', optimizer='adam', metrics=['accuracy'])"
   ]
  },
  {
   "cell_type": "code",
   "execution_count": 119,
   "metadata": {},
   "outputs": [
    {
     "name": "stdout",
     "output_type": "stream",
     "text": [
      "Epoch 1/100\n",
      "92/92 [==============================] - 0s 3ms/step - loss: 0.0302 - accuracy: 0.0109\n",
      "Epoch 2/100\n",
      "92/92 [==============================] - 0s 3ms/step - loss: 0.0126 - accuracy: 0.0109\n",
      "Epoch 3/100\n",
      "92/92 [==============================] - 0s 3ms/step - loss: 0.0106 - accuracy: 0.0109\n",
      "Epoch 4/100\n",
      "92/92 [==============================] - 0s 3ms/step - loss: 0.0092 - accuracy: 0.0109\n",
      "Epoch 5/100\n",
      "92/92 [==============================] - 0s 3ms/step - loss: 0.0079 - accuracy: 0.0109\n",
      "Epoch 6/100\n",
      "92/92 [==============================] - 0s 3ms/step - loss: 0.0069 - accuracy: 0.0109\n",
      "Epoch 7/100\n",
      "92/92 [==============================] - 0s 3ms/step - loss: 0.0059 - accuracy: 0.0109\n",
      "Epoch 8/100\n",
      "92/92 [==============================] - 0s 3ms/step - loss: 0.0051 - accuracy: 0.0109\n",
      "Epoch 9/100\n",
      "92/92 [==============================] - 0s 3ms/step - loss: 0.0047 - accuracy: 0.0109\n",
      "Epoch 10/100\n",
      "92/92 [==============================] - 0s 3ms/step - loss: 0.0044 - accuracy: 0.0109\n",
      "Epoch 11/100\n",
      "92/92 [==============================] - 0s 3ms/step - loss: 0.0041 - accuracy: 0.0109\n",
      "Epoch 12/100\n",
      "92/92 [==============================] - 0s 3ms/step - loss: 0.0041 - accuracy: 0.0109\n",
      "Epoch 13/100\n",
      "92/92 [==============================] - 0s 3ms/step - loss: 0.0039 - accuracy: 0.0109\n",
      "Epoch 14/100\n",
      "92/92 [==============================] - 0s 3ms/step - loss: 0.0041 - accuracy: 0.0109\n",
      "Epoch 15/100\n",
      "92/92 [==============================] - 0s 4ms/step - loss: 0.0039 - accuracy: 0.0109\n",
      "Epoch 16/100\n",
      "92/92 [==============================] - 0s 4ms/step - loss: 0.0038 - accuracy: 0.0109\n",
      "Epoch 17/100\n",
      "92/92 [==============================] - 0s 3ms/step - loss: 0.0034 - accuracy: 0.0109\n",
      "Epoch 18/100\n",
      "92/92 [==============================] - 0s 3ms/step - loss: 0.0042 - accuracy: 0.0109\n",
      "Epoch 19/100\n",
      "92/92 [==============================] - 0s 3ms/step - loss: 0.0037 - accuracy: 0.0109\n",
      "Epoch 20/100\n",
      "92/92 [==============================] - 0s 3ms/step - loss: 0.0039 - accuracy: 0.0109\n",
      "Epoch 21/100\n",
      "92/92 [==============================] - 0s 3ms/step - loss: 0.0038 - accuracy: 0.0109\n",
      "Epoch 22/100\n",
      "92/92 [==============================] - 0s 4ms/step - loss: 0.0038 - accuracy: 0.0109\n",
      "Epoch 23/100\n",
      "92/92 [==============================] - 0s 4ms/step - loss: 0.0039 - accuracy: 0.0109\n",
      "Epoch 24/100\n",
      "92/92 [==============================] - 0s 4ms/step - loss: 0.0039 - accuracy: 0.0109\n",
      "Epoch 25/100\n",
      "92/92 [==============================] - 0s 4ms/step - loss: 0.0037 - accuracy: 0.0109\n",
      "Epoch 26/100\n",
      "92/92 [==============================] - 0s 3ms/step - loss: 0.0037 - accuracy: 0.0109\n",
      "Epoch 27/100\n",
      "92/92 [==============================] - 0s 4ms/step - loss: 0.0039 - accuracy: 0.0109\n",
      "Epoch 28/100\n",
      "92/92 [==============================] - 0s 4ms/step - loss: 0.0038 - accuracy: 0.0109\n",
      "Epoch 29/100\n",
      "92/92 [==============================] - 0s 3ms/step - loss: 0.0038 - accuracy: 0.0109\n",
      "Epoch 30/100\n",
      "92/92 [==============================] - 0s 3ms/step - loss: 0.0037 - accuracy: 0.0109\n",
      "Epoch 31/100\n",
      "92/92 [==============================] - 0s 3ms/step - loss: 0.0037 - accuracy: 0.0109\n",
      "Epoch 32/100\n",
      "92/92 [==============================] - 0s 3ms/step - loss: 0.0038 - accuracy: 0.0109\n",
      "Epoch 33/100\n",
      "92/92 [==============================] - 0s 3ms/step - loss: 0.0036 - accuracy: 0.0109\n",
      "Epoch 34/100\n",
      "92/92 [==============================] - 0s 3ms/step - loss: 0.0036 - accuracy: 0.0109\n",
      "Epoch 35/100\n",
      "92/92 [==============================] - 0s 3ms/step - loss: 0.0037 - accuracy: 0.0109\n",
      "Epoch 36/100\n",
      "92/92 [==============================] - 0s 3ms/step - loss: 0.0037 - accuracy: 0.0109\n",
      "Epoch 37/100\n",
      "92/92 [==============================] - 0s 3ms/step - loss: 0.0036 - accuracy: 0.0109\n",
      "Epoch 38/100\n",
      "92/92 [==============================] - 0s 3ms/step - loss: 0.0036 - accuracy: 0.0109\n",
      "Epoch 39/100\n",
      "92/92 [==============================] - 0s 3ms/step - loss: 0.0036 - accuracy: 0.0109\n",
      "Epoch 40/100\n",
      "92/92 [==============================] - 0s 3ms/step - loss: 0.0036 - accuracy: 0.0109\n",
      "Epoch 41/100\n",
      "92/92 [==============================] - 0s 3ms/step - loss: 0.0036 - accuracy: 0.0109\n",
      "Epoch 42/100\n",
      "92/92 [==============================] - 0s 4ms/step - loss: 0.0034 - accuracy: 0.0109\n",
      "Epoch 43/100\n",
      "92/92 [==============================] - 0s 3ms/step - loss: 0.0034 - accuracy: 0.0109\n",
      "Epoch 44/100\n",
      "92/92 [==============================] - 0s 3ms/step - loss: 0.0036 - accuracy: 0.0109\n",
      "Epoch 45/100\n",
      "92/92 [==============================] - 0s 3ms/step - loss: 0.0036 - accuracy: 0.0109\n",
      "Epoch 46/100\n",
      "92/92 [==============================] - 0s 3ms/step - loss: 0.0033 - accuracy: 0.0109\n",
      "Epoch 47/100\n",
      "92/92 [==============================] - 0s 3ms/step - loss: 0.0033 - accuracy: 0.0109\n",
      "Epoch 48/100\n",
      "92/92 [==============================] - 0s 3ms/step - loss: 0.0034 - accuracy: 0.0109\n",
      "Epoch 49/100\n",
      "92/92 [==============================] - 0s 3ms/step - loss: 0.0033 - accuracy: 0.0109\n",
      "Epoch 50/100\n",
      "92/92 [==============================] - 0s 4ms/step - loss: 0.0034 - accuracy: 0.0109\n",
      "Epoch 51/100\n",
      "92/92 [==============================] - 0s 4ms/step - loss: 0.0034 - accuracy: 0.0109\n",
      "Epoch 52/100\n",
      "92/92 [==============================] - 0s 4ms/step - loss: 0.0033 - accuracy: 0.0109\n",
      "Epoch 53/100\n",
      "92/92 [==============================] - 0s 3ms/step - loss: 0.0032 - accuracy: 0.0109\n",
      "Epoch 54/100\n",
      "92/92 [==============================] - 0s 3ms/step - loss: 0.0033 - accuracy: 0.0109\n",
      "Epoch 55/100\n",
      "92/92 [==============================] - 0s 3ms/step - loss: 0.0032 - accuracy: 0.0109\n",
      "Epoch 56/100\n",
      "92/92 [==============================] - 0s 3ms/step - loss: 0.0033 - accuracy: 0.0109\n",
      "Epoch 57/100\n",
      "92/92 [==============================] - 0s 3ms/step - loss: 0.0032 - accuracy: 0.0109\n",
      "Epoch 58/100\n",
      "92/92 [==============================] - 0s 3ms/step - loss: 0.0032 - accuracy: 0.0109\n",
      "Epoch 59/100\n",
      "92/92 [==============================] - 0s 3ms/step - loss: 0.0032 - accuracy: 0.0109\n",
      "Epoch 60/100\n",
      "92/92 [==============================] - 0s 3ms/step - loss: 0.0030 - accuracy: 0.0109\n",
      "Epoch 61/100\n",
      "92/92 [==============================] - 0s 3ms/step - loss: 0.0030 - accuracy: 0.0109\n",
      "Epoch 62/100\n",
      "92/92 [==============================] - 0s 3ms/step - loss: 0.0029 - accuracy: 0.0109\n",
      "Epoch 63/100\n",
      "92/92 [==============================] - 0s 3ms/step - loss: 0.0029 - accuracy: 0.0109\n",
      "Epoch 64/100\n",
      "92/92 [==============================] - 0s 3ms/step - loss: 0.0029 - accuracy: 0.0109\n",
      "Epoch 65/100\n",
      "92/92 [==============================] - 0s 3ms/step - loss: 0.0028 - accuracy: 0.0109\n",
      "Epoch 66/100\n",
      "92/92 [==============================] - 0s 3ms/step - loss: 0.0029 - accuracy: 0.0109\n",
      "Epoch 67/100\n",
      "92/92 [==============================] - 0s 3ms/step - loss: 0.0027 - accuracy: 0.0109\n",
      "Epoch 68/100\n",
      "92/92 [==============================] - 0s 3ms/step - loss: 0.0029 - accuracy: 0.0109\n",
      "Epoch 69/100\n",
      "92/92 [==============================] - 0s 3ms/step - loss: 0.0028 - accuracy: 0.0109\n",
      "Epoch 70/100\n",
      "92/92 [==============================] - 0s 3ms/step - loss: 0.0026 - accuracy: 0.0109\n",
      "Epoch 71/100\n",
      "92/92 [==============================] - 0s 3ms/step - loss: 0.0027 - accuracy: 0.0109\n",
      "Epoch 72/100\n",
      "92/92 [==============================] - 0s 3ms/step - loss: 0.0026 - accuracy: 0.0109\n",
      "Epoch 73/100\n",
      "92/92 [==============================] - 0s 3ms/step - loss: 0.0027 - accuracy: 0.0109\n",
      "Epoch 74/100\n",
      "92/92 [==============================] - 0s 3ms/step - loss: 0.0025 - accuracy: 0.0109\n",
      "Epoch 75/100\n",
      "92/92 [==============================] - 0s 3ms/step - loss: 0.0026 - accuracy: 0.0109\n",
      "Epoch 76/100\n",
      "92/92 [==============================] - 0s 3ms/step - loss: 0.0027 - accuracy: 0.0109\n",
      "Epoch 77/100\n",
      "92/92 [==============================] - 0s 3ms/step - loss: 0.0026 - accuracy: 0.0109\n",
      "Epoch 78/100\n",
      "92/92 [==============================] - 0s 3ms/step - loss: 0.0024 - accuracy: 0.0109\n",
      "Epoch 79/100\n",
      "92/92 [==============================] - 0s 3ms/step - loss: 0.0025 - accuracy: 0.0109\n",
      "Epoch 80/100\n",
      "92/92 [==============================] - 0s 3ms/step - loss: 0.0026 - accuracy: 0.0109\n",
      "Epoch 81/100\n",
      "92/92 [==============================] - 0s 4ms/step - loss: 0.0024 - accuracy: 0.0109\n",
      "Epoch 82/100\n",
      "92/92 [==============================] - 0s 4ms/step - loss: 0.0023 - accuracy: 0.0109\n",
      "Epoch 83/100\n"
     ]
    },
    {
     "name": "stdout",
     "output_type": "stream",
     "text": [
      "92/92 [==============================] - 0s 3ms/step - loss: 0.0022 - accuracy: 0.0109\n",
      "Epoch 84/100\n",
      "92/92 [==============================] - 0s 3ms/step - loss: 0.0025 - accuracy: 0.0109\n",
      "Epoch 85/100\n",
      "92/92 [==============================] - 0s 3ms/step - loss: 0.0022 - accuracy: 0.0109\n",
      "Epoch 86/100\n",
      "92/92 [==============================] - 0s 3ms/step - loss: 0.0023 - accuracy: 0.0109\n",
      "Epoch 87/100\n",
      "92/92 [==============================] - 0s 3ms/step - loss: 0.0023 - accuracy: 0.0109\n",
      "Epoch 88/100\n",
      "92/92 [==============================] - 0s 3ms/step - loss: 0.0022 - accuracy: 0.0109\n",
      "Epoch 89/100\n",
      "92/92 [==============================] - 0s 3ms/step - loss: 0.0022 - accuracy: 0.0109\n",
      "Epoch 90/100\n",
      "92/92 [==============================] - 0s 3ms/step - loss: 0.0023 - accuracy: 0.0109\n",
      "Epoch 91/100\n",
      "92/92 [==============================] - 0s 3ms/step - loss: 0.0021 - accuracy: 0.0109\n",
      "Epoch 92/100\n",
      "92/92 [==============================] - 0s 3ms/step - loss: 0.0021 - accuracy: 0.0109\n",
      "Epoch 93/100\n",
      "92/92 [==============================] - 0s 3ms/step - loss: 0.0021 - accuracy: 0.0109\n",
      "Epoch 94/100\n",
      "92/92 [==============================] - 0s 3ms/step - loss: 0.0021 - accuracy: 0.0109\n",
      "Epoch 95/100\n",
      "92/92 [==============================] - 0s 3ms/step - loss: 0.0022 - accuracy: 0.0109\n",
      "Epoch 96/100\n",
      "92/92 [==============================] - 0s 3ms/step - loss: 0.0021 - accuracy: 0.0109\n",
      "Epoch 97/100\n",
      "92/92 [==============================] - 0s 3ms/step - loss: 0.0022 - accuracy: 0.0109\n",
      "Epoch 98/100\n",
      "92/92 [==============================] - 0s 3ms/step - loss: 0.0021 - accuracy: 0.0109\n",
      "Epoch 99/100\n",
      "92/92 [==============================] - 0s 4ms/step - loss: 0.0020 - accuracy: 0.0109\n",
      "Epoch 100/100\n",
      "92/92 [==============================] - 0s 4ms/step - loss: 0.0020 - accuracy: 0.0109\n"
     ]
    }
   ],
   "source": [
    "history = model.fit(trainX, trainY, epochs=100, batch_size=1, verbose=1)"
   ]
  },
  {
   "cell_type": "code",
   "execution_count": 120,
   "metadata": {},
   "outputs": [],
   "source": [
    "trainPredict = model.predict(trainX)\n",
    "testPredict = model.predict(testX)"
   ]
  },
  {
   "cell_type": "code",
   "execution_count": 121,
   "metadata": {},
   "outputs": [],
   "source": [
    "trainPredict = scaler.inverse_transform(trainPredict)\n",
    "trainY = scaler.inverse_transform([trainY])\n",
    "testPredict = scaler.inverse_transform(testPredict)\n",
    "testY = scaler.inverse_transform([testY])"
   ]
  },
  {
   "cell_type": "code",
   "execution_count": 122,
   "metadata": {},
   "outputs": [
    {
     "name": "stdout",
     "output_type": "stream",
     "text": [
      "Train Score: 23.29 RMSE\n",
      "Test Score: 62.06 RMSE\n"
     ]
    }
   ],
   "source": [
    "trainScore = math.sqrt(mean_squared_error(trainY[0], trainPredict[:,0]))\n",
    "print('Train Score: %.2f RMSE' % (trainScore))\n",
    "testScore = math.sqrt(mean_squared_error(testY[0], testPredict[:,0]))\n",
    "print('Test Score: %.2f RMSE' % (testScore))"
   ]
  },
  {
   "cell_type": "code",
   "execution_count": 123,
   "metadata": {},
   "outputs": [],
   "source": [
    "trainPredictPlot = np.empty_like(dataset)\n",
    "trainPredictPlot[:, :] = np.nan\n",
    "trainPredictPlot[look_back:len(trainPredict)+look_back, :] = trainPredict"
   ]
  },
  {
   "cell_type": "code",
   "execution_count": 124,
   "metadata": {},
   "outputs": [],
   "source": [
    "testPredictPlot = np.empty_like(dataset)\n",
    "testPredictPlot[:, :] = np.nan\n",
    "testPredictPlot[len(trainPredict)+(look_back*2)+1:len(dataset)-1, :] = testPredict"
   ]
  },
  {
   "cell_type": "code",
   "execution_count": 125,
   "metadata": {},
   "outputs": [
    {
     "data": {
      "image/png": "[encoded data removed]",
      "text/plain": [
       "<Figure size 432x288 with 1 Axes>"
      ]
     },
     "metadata": {
      "needs_background": "light"
     },
     "output_type": "display_data"
    }
   ],
   "source": [
    "plt.plot(scaler.inverse_transform(dataset), 'red')\n",
    "plt.plot(trainPredictPlot, 'blue')\n",
    "plt.plot(testPredictPlot, 'green')\n",
    "plt.show()"
   ]
  },
  {
   "cell_type": "code",
   "execution_count": null,
   "metadata": {},
   "outputs": [],
   "source": []
  }
 ],
 "metadata": {
  "kernelspec": {
   "display_name": "Python 3",
   "language": "python",
   "name": "python3"
  },
  "language_info": {
   "codemirror_mode": {
    "name": "ipython",
    "version": 3
   },
   "file_extension": ".py",
   "mimetype": "text/x-python",
   "name": "python",
   "nbconvert_exporter": "python",
   "pygments_lexer": "ipython3",
   "version": "3.7.6"
  }
 },
 "nbformat": 4,
 "nbformat_minor": 4
}
